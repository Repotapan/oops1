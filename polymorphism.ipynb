{
 "cells": [
  {
   "cell_type": "code",
   "execution_count": 1,
   "id": "89bfe41e-b1ed-4bb1-8647-dcfb0ba31efc",
   "metadata": {},
   "outputs": [],
   "source": [
    "def add(a,b):\n",
    "    return a+b"
   ]
  },
  {
   "cell_type": "code",
   "execution_count": 2,
   "id": "4673ea2a-16b6-4074-85dc-da65c42511dd",
   "metadata": {},
   "outputs": [
    {
     "data": {
      "text/plain": [
       "7"
      ]
     },
     "execution_count": 2,
     "metadata": {},
     "output_type": "execute_result"
    }
   ],
   "source": [
    "add(3,4)"
   ]
  },
  {
   "cell_type": "code",
   "execution_count": 3,
   "id": "e85b33d3-9ad8-4ac6-b624-50d60b47019d",
   "metadata": {},
   "outputs": [
    {
     "data": {
      "text/plain": [
       "'tapankumar'"
      ]
     },
     "execution_count": 3,
     "metadata": {},
     "output_type": "execute_result"
    }
   ],
   "source": [
    "add(\"tapan\",\"kumar\")"
   ]
  },
  {
   "cell_type": "code",
   "execution_count": 4,
   "id": "fcfd8181-c838-4dfc-9731-77f4733b9f39",
   "metadata": {},
   "outputs": [],
   "source": [
    "class data_science:\n",
    "    def syllabus(self):\n",
    "        print(\"This is my syllabus for data science\")"
   ]
  },
  {
   "cell_type": "code",
   "execution_count": 5,
   "id": "20722c73-098e-4f83-996e-ffae25754254",
   "metadata": {},
   "outputs": [],
   "source": [
    "class  web_dev :\n",
    "    def syllabus(self):\n",
    "        print(\"this is my syllabus for webdev\")"
   ]
  },
  {
   "cell_type": "code",
   "execution_count": 5,
   "id": "97f7ec15-f135-45bf-9ea8-54a42928a8d7",
   "metadata": {},
   "outputs": [],
   "source": [
    "def class_parcer(class_obj):\n",
    "    for i in class_obj:\n",
    "        i.syllabus()"
   ]
  },
  {
   "cell_type": "code",
   "execution_count": 10,
   "id": "5311423a-fe75-4c27-a34f-10bc947e5029",
   "metadata": {},
   "outputs": [
    {
     "ename": "NameError",
     "evalue": "name 'data_science' is not defined",
     "output_type": "error",
     "traceback": [
      "\u001b[0;31m---------------------------------------------------------------------------\u001b[0m",
      "\u001b[0;31mNameError\u001b[0m                                 Traceback (most recent call last)",
      "Cell \u001b[0;32mIn[10], line 1\u001b[0m\n\u001b[0;32m----> 1\u001b[0m data_science \u001b[38;5;241m=\u001b[39m \u001b[43mdata_science\u001b[49m()\n",
      "\u001b[0;31mNameError\u001b[0m: name 'data_science' is not defined"
     ]
    }
   ],
   "source": [
    "data_science = data_science()"
   ]
  },
  {
   "cell_type": "code",
   "execution_count": 11,
   "id": "92b8545b-9e4e-4b76-8f99-114ab9057296",
   "metadata": {},
   "outputs": [
    {
     "ename": "NameError",
     "evalue": "name 'web_dev' is not defined",
     "output_type": "error",
     "traceback": [
      "\u001b[0;31m---------------------------------------------------------------------------\u001b[0m",
      "\u001b[0;31mNameError\u001b[0m                                 Traceback (most recent call last)",
      "Cell \u001b[0;32mIn[11], line 1\u001b[0m\n\u001b[0;32m----> 1\u001b[0m web_dev \u001b[38;5;241m=\u001b[39m \u001b[43mweb_dev\u001b[49m()\n",
      "\u001b[0;31mNameError\u001b[0m: name 'web_dev' is not defined"
     ]
    }
   ],
   "source": [
    "web_dev = web_dev()"
   ]
  },
  {
   "cell_type": "code",
   "execution_count": null,
   "id": "eb69ffe1-2781-4aac-b1fb-06aaf23af27e",
   "metadata": {},
   "outputs": [],
   "source": []
  },
  {
   "cell_type": "code",
   "execution_count": null,
   "id": "d7063290-1653-4e31-8796-80d88e8659af",
   "metadata": {},
   "outputs": [],
   "source": []
  },
  {
   "cell_type": "code",
   "execution_count": null,
   "id": "f710ea25-05f6-439b-a2ab-4c76cb937d21",
   "metadata": {},
   "outputs": [],
   "source": []
  },
  {
   "cell_type": "code",
   "execution_count": null,
   "id": "3f6c9b27-0a54-4285-9486-ddeb64d45aed",
   "metadata": {},
   "outputs": [],
   "source": []
  }
 ],
 "metadata": {
  "kernelspec": {
   "display_name": "Python 3 (ipykernel)",
   "language": "python",
   "name": "python3"
  },
  "language_info": {
   "codemirror_mode": {
    "name": "ipython",
    "version": 3
   },
   "file_extension": ".py",
   "mimetype": "text/x-python",
   "name": "python",
   "nbconvert_exporter": "python",
   "pygments_lexer": "ipython3",
   "version": "3.10.8"
  }
 },
 "nbformat": 4,
 "nbformat_minor": 5
}
